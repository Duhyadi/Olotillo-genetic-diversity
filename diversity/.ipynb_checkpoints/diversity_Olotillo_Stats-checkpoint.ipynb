{
 "cells": [
  {
   "cell_type": "code",
   "execution_count": 1,
   "id": "450f5b40",
   "metadata": {},
   "outputs": [],
   "source": [
    "# AQUÍ EMPIEZA TODO, REGRESANDO A JUPYTER NOTEBOOK...después de siglos\n",
    "\n",
    "# DIVERSIDAD GENÉTICA OLOTILLO\n",
    "# Apertura de la Notebook: viernes 7 de febrero, 2025. Versoix, Suiza. \n",
    "# Actualización previa: miércoles 26 de febrero, 2025.14:35 PM. Versoix, Suiza.\n",
    "# Última actualización: miércoles 27 de febrero, 2025.08:09 AM. Versoix, Suiza.\n",
    "# El archivo de trabajo (.csv) se obtuvo de: "
   ]
  },
  {
   "cell_type": "code",
   "execution_count": 2,
   "id": "17b6d45b",
   "metadata": {},
   "outputs": [],
   "source": [
    "# IMPORTAR LIBRERÍAS"
   ]
  },
  {
   "cell_type": "code",
   "execution_count": 3,
   "id": "d8e3b990",
   "metadata": {},
   "outputs": [],
   "source": [
    "# Manejo de datos\n",
    "import numpy as np   # optimizar calculos y análisis de datos, estadística. \n",
    "import pandas as pd  # manipular datos\n",
    "import os            # manejar archivos\n",
    "\n",
    "# Pruebas estadísticas \n",
    "import scipy.stats as stats\n",
    "# Levene ¿Homogeneidad de las varianzas?\n",
    "from scipy.stats import levene  \n",
    "# ANOVA de Welch  \n",
    "import statsmodels.api as sm \n",
    "from statsmodels.formula.api import ols \n",
    "# Post hoc , Bonferroni\n",
    "from itertools import combinations\n",
    "from scipy.stats import ttest_ind\n",
    "from statsmodels.stats.multitest import multipletests\n",
    "\n",
    "# Graficar \n",
    "import matplotlib.pyplot as plt\n",
    "import seaborn as sns"
   ]
  },
  {
   "cell_type": "code",
   "execution_count": 4,
   "id": "e6b3a94c",
   "metadata": {},
   "outputs": [
    {
     "name": "stdout",
     "output_type": "stream",
     "text": [
      "['HETob.png', 'Rplot.png', '.ipynb_checkpoints', 'diversity_Olotillo.R', '.RData', 'diversity_Olotillo_Stats.ipynb', '.Rhistory', 'F.png', 'download_cluster', 'data_olotillo.csv']\n"
     ]
    }
   ],
   "source": [
    "# Mostrar los archivos del directorio actual\n",
    "print(os.listdir())"
   ]
  },
  {
   "cell_type": "code",
   "execution_count": 5,
   "id": "23405865",
   "metadata": {},
   "outputs": [],
   "source": [
    "# CARGAR DATOS"
   ]
  },
  {
   "cell_type": "code",
   "execution_count": 6,
   "id": "ed6d598a",
   "metadata": {},
   "outputs": [
    {
     "data": {
      "text/html": [
       "<div>\n",
       "<style scoped>\n",
       "    .dataframe tbody tr th:only-of-type {\n",
       "        vertical-align: middle;\n",
       "    }\n",
       "\n",
       "    .dataframe tbody tr th {\n",
       "        vertical-align: top;\n",
       "    }\n",
       "\n",
       "    .dataframe thead th {\n",
       "        text-align: right;\n",
       "    }\n",
       "</style>\n",
       "<table border=\"1\" class=\"dataframe\">\n",
       "  <thead>\n",
       "    <tr style=\"text-align: right;\">\n",
       "      <th></th>\n",
       "      <th>sample_name</th>\n",
       "      <th>O.HOM.</th>\n",
       "      <th>E.HOM.</th>\n",
       "      <th>N_SITES</th>\n",
       "      <th>F</th>\n",
       "      <th>state</th>\n",
       "      <th>accession_ID</th>\n",
       "      <th>scale</th>\n",
       "      <th>Race</th>\n",
       "      <th>O.HET.</th>\n",
       "      <th>E.HET.</th>\n",
       "      <th>HETob</th>\n",
       "      <th>HETex</th>\n",
       "      <th>HOMex</th>\n",
       "    </tr>\n",
       "  </thead>\n",
       "  <tbody>\n",
       "    <tr>\n",
       "      <th>0</th>\n",
       "      <td>CAM_E13_1</td>\n",
       "      <td>77591</td>\n",
       "      <td>60073.1</td>\n",
       "      <td>85304</td>\n",
       "      <td>0.69430</td>\n",
       "      <td>Campeche</td>\n",
       "      <td>CAM_E54</td>\n",
       "      <td>National</td>\n",
       "      <td>Dzit-bacal</td>\n",
       "      <td>7713</td>\n",
       "      <td>25230.9</td>\n",
       "      <td>0.090418</td>\n",
       "      <td>0.295776</td>\n",
       "      <td>0.704224</td>\n",
       "    </tr>\n",
       "    <tr>\n",
       "      <th>1</th>\n",
       "      <td>CAM_E14_1</td>\n",
       "      <td>78153</td>\n",
       "      <td>60019.7</td>\n",
       "      <td>85215</td>\n",
       "      <td>0.71971</td>\n",
       "      <td>Campeche</td>\n",
       "      <td>CAM_E54</td>\n",
       "      <td>National</td>\n",
       "      <td>Dzit-bacal</td>\n",
       "      <td>7062</td>\n",
       "      <td>25195.3</td>\n",
       "      <td>0.082873</td>\n",
       "      <td>0.295667</td>\n",
       "      <td>0.704333</td>\n",
       "    </tr>\n",
       "    <tr>\n",
       "      <th>2</th>\n",
       "      <td>CAM_E15_1</td>\n",
       "      <td>77854</td>\n",
       "      <td>59404.5</td>\n",
       "      <td>84346</td>\n",
       "      <td>0.73971</td>\n",
       "      <td>Campeche</td>\n",
       "      <td>CAM_E55</td>\n",
       "      <td>National</td>\n",
       "      <td>Dzit-bacal</td>\n",
       "      <td>6492</td>\n",
       "      <td>24941.5</td>\n",
       "      <td>0.076969</td>\n",
       "      <td>0.295705</td>\n",
       "      <td>0.704295</td>\n",
       "    </tr>\n",
       "    <tr>\n",
       "      <th>3</th>\n",
       "      <td>CAM_E16</td>\n",
       "      <td>78320</td>\n",
       "      <td>59760.7</td>\n",
       "      <td>84868</td>\n",
       "      <td>0.73920</td>\n",
       "      <td>Campeche</td>\n",
       "      <td>CAM_E55</td>\n",
       "      <td>National</td>\n",
       "      <td>Dzit-bacal</td>\n",
       "      <td>6548</td>\n",
       "      <td>25107.3</td>\n",
       "      <td>0.077155</td>\n",
       "      <td>0.295839</td>\n",
       "      <td>0.704161</td>\n",
       "    </tr>\n",
       "    <tr>\n",
       "      <th>4</th>\n",
       "      <td>CAM_E21_1</td>\n",
       "      <td>77245</td>\n",
       "      <td>58133.8</td>\n",
       "      <td>82492</td>\n",
       "      <td>0.78459</td>\n",
       "      <td>Campeche</td>\n",
       "      <td>CAM_E58</td>\n",
       "      <td>National</td>\n",
       "      <td>Tuxpeño</td>\n",
       "      <td>5247</td>\n",
       "      <td>24358.2</td>\n",
       "      <td>0.063606</td>\n",
       "      <td>0.295280</td>\n",
       "      <td>0.704720</td>\n",
       "    </tr>\n",
       "  </tbody>\n",
       "</table>\n",
       "</div>"
      ],
      "text/plain": [
       "  sample_name  O.HOM.   E.HOM.  N_SITES        F     state accession_ID  \\\n",
       "0   CAM_E13_1   77591  60073.1    85304  0.69430  Campeche      CAM_E54   \n",
       "1   CAM_E14_1   78153  60019.7    85215  0.71971  Campeche      CAM_E54   \n",
       "2   CAM_E15_1   77854  59404.5    84346  0.73971  Campeche      CAM_E55   \n",
       "3     CAM_E16   78320  59760.7    84868  0.73920  Campeche      CAM_E55   \n",
       "4   CAM_E21_1   77245  58133.8    82492  0.78459  Campeche      CAM_E58   \n",
       "\n",
       "      scale        Race  O.HET.   E.HET.     HETob     HETex     HOMex  \n",
       "0  National  Dzit-bacal    7713  25230.9  0.090418  0.295776  0.704224  \n",
       "1  National  Dzit-bacal    7062  25195.3  0.082873  0.295667  0.704333  \n",
       "2  National  Dzit-bacal    6492  24941.5  0.076969  0.295705  0.704295  \n",
       "3  National  Dzit-bacal    6548  25107.3  0.077155  0.295839  0.704161  \n",
       "4  National     Tuxpeño    5247  24358.2  0.063606  0.295280  0.704720  "
      ]
     },
     "execution_count": 6,
     "metadata": {},
     "output_type": "execute_result"
    }
   ],
   "source": [
    "file_path = \"download_cluster/data_merged2.csv\"  # path\n",
    "data = pd.read_csv(file_path) # load data\n",
    "data.head() # mostrar las primeras filas del dataframe"
   ]
  },
  {
   "cell_type": "code",
   "execution_count": 7,
   "id": "d27a9b0f",
   "metadata": {},
   "outputs": [],
   "source": [
    "# FILTRADO"
   ]
  },
  {
   "cell_type": "code",
   "execution_count": 8,
   "id": "5fcaa784",
   "metadata": {},
   "outputs": [],
   "source": [
    "# F:ENDOGAMIA"
   ]
  },
  {
   "cell_type": "code",
   "execution_count": 9,
   "id": "9e6ce6ed",
   "metadata": {},
   "outputs": [
    {
     "name": "stdout",
     "output_type": "stream",
     "text": [
      "['Regional' 'National' 'Local']\n"
     ]
    },
    {
     "data": {
      "text/html": [
       "<div>\n",
       "<style scoped>\n",
       "    .dataframe tbody tr th:only-of-type {\n",
       "        vertical-align: middle;\n",
       "    }\n",
       "\n",
       "    .dataframe tbody tr th {\n",
       "        vertical-align: top;\n",
       "    }\n",
       "\n",
       "    .dataframe thead th {\n",
       "        text-align: right;\n",
       "    }\n",
       "</style>\n",
       "<table border=\"1\" class=\"dataframe\">\n",
       "  <thead>\n",
       "    <tr style=\"text-align: right;\">\n",
       "      <th></th>\n",
       "      <th>sample_name</th>\n",
       "      <th>O.HOM.</th>\n",
       "      <th>E.HOM.</th>\n",
       "      <th>N_SITES</th>\n",
       "      <th>F</th>\n",
       "      <th>state</th>\n",
       "      <th>accession_ID</th>\n",
       "      <th>scale</th>\n",
       "      <th>Race</th>\n",
       "      <th>O.HET.</th>\n",
       "      <th>E.HET.</th>\n",
       "      <th>HETob</th>\n",
       "      <th>HETex</th>\n",
       "      <th>HOMex</th>\n",
       "    </tr>\n",
       "  </thead>\n",
       "  <tbody>\n",
       "    <tr>\n",
       "      <th>8</th>\n",
       "      <td>CHIS_E10_1</td>\n",
       "      <td>77500</td>\n",
       "      <td>59031.1</td>\n",
       "      <td>83822</td>\n",
       "      <td>0.74499</td>\n",
       "      <td>Chiapas</td>\n",
       "      <td>CHIS_E52</td>\n",
       "      <td>Regional</td>\n",
       "      <td>Olotillo</td>\n",
       "      <td>6322</td>\n",
       "      <td>24790.9</td>\n",
       "      <td>0.075422</td>\n",
       "      <td>0.295756</td>\n",
       "      <td>0.704244</td>\n",
       "    </tr>\n",
       "    <tr>\n",
       "      <th>9</th>\n",
       "      <td>CHIS_E23_1</td>\n",
       "      <td>76789</td>\n",
       "      <td>57739.9</td>\n",
       "      <td>81967</td>\n",
       "      <td>0.78627</td>\n",
       "      <td>Chiapas</td>\n",
       "      <td>CHIS_E59</td>\n",
       "      <td>National</td>\n",
       "      <td>Olotillo</td>\n",
       "      <td>5178</td>\n",
       "      <td>24227.1</td>\n",
       "      <td>0.063172</td>\n",
       "      <td>0.295571</td>\n",
       "      <td>0.704429</td>\n",
       "    </tr>\n",
       "    <tr>\n",
       "      <th>10</th>\n",
       "      <td>CHIS_E24_1</td>\n",
       "      <td>77484</td>\n",
       "      <td>58575.3</td>\n",
       "      <td>83163</td>\n",
       "      <td>0.76903</td>\n",
       "      <td>Chiapas</td>\n",
       "      <td>CHIS_E59</td>\n",
       "      <td>National</td>\n",
       "      <td>Olotillo</td>\n",
       "      <td>5679</td>\n",
       "      <td>24587.7</td>\n",
       "      <td>0.068288</td>\n",
       "      <td>0.295657</td>\n",
       "      <td>0.704343</td>\n",
       "    </tr>\n",
       "    <tr>\n",
       "      <th>11</th>\n",
       "      <td>CHIS_E9_1</td>\n",
       "      <td>78506</td>\n",
       "      <td>60381.4</td>\n",
       "      <td>85728</td>\n",
       "      <td>0.71507</td>\n",
       "      <td>Chiapas</td>\n",
       "      <td>CHIS_E52</td>\n",
       "      <td>Regional</td>\n",
       "      <td>Olotillo</td>\n",
       "      <td>7222</td>\n",
       "      <td>25346.6</td>\n",
       "      <td>0.084243</td>\n",
       "      <td>0.295663</td>\n",
       "      <td>0.704337</td>\n",
       "    </tr>\n",
       "    <tr>\n",
       "      <th>12</th>\n",
       "      <td>CHIS_L04_1</td>\n",
       "      <td>77907</td>\n",
       "      <td>60101.1</td>\n",
       "      <td>85333</td>\n",
       "      <td>0.70569</td>\n",
       "      <td>Chiapas</td>\n",
       "      <td>CHIS_L04</td>\n",
       "      <td>Local</td>\n",
       "      <td>Olotillo</td>\n",
       "      <td>7426</td>\n",
       "      <td>25231.9</td>\n",
       "      <td>0.087024</td>\n",
       "      <td>0.295687</td>\n",
       "      <td>0.704313</td>\n",
       "    </tr>\n",
       "  </tbody>\n",
       "</table>\n",
       "</div>"
      ],
      "text/plain": [
       "   sample_name  O.HOM.   E.HOM.  N_SITES        F    state accession_ID  \\\n",
       "8   CHIS_E10_1   77500  59031.1    83822  0.74499  Chiapas     CHIS_E52   \n",
       "9   CHIS_E23_1   76789  57739.9    81967  0.78627  Chiapas     CHIS_E59   \n",
       "10  CHIS_E24_1   77484  58575.3    83163  0.76903  Chiapas     CHIS_E59   \n",
       "11   CHIS_E9_1   78506  60381.4    85728  0.71507  Chiapas     CHIS_E52   \n",
       "12  CHIS_L04_1   77907  60101.1    85333  0.70569  Chiapas     CHIS_L04   \n",
       "\n",
       "       scale      Race  O.HET.   E.HET.     HETob     HETex     HOMex  \n",
       "8   Regional  Olotillo    6322  24790.9  0.075422  0.295756  0.704244  \n",
       "9   National  Olotillo    5178  24227.1  0.063172  0.295571  0.704429  \n",
       "10  National  Olotillo    5679  24587.7  0.068288  0.295657  0.704343  \n",
       "11  Regional  Olotillo    7222  25346.6  0.084243  0.295663  0.704337  \n",
       "12     Local  Olotillo    7426  25231.9  0.087024  0.295687  0.704313  "
      ]
     },
     "execution_count": 9,
     "metadata": {},
     "output_type": "execute_result"
    }
   ],
   "source": [
    "# Filtrar solo la raza Olotillo\n",
    "olotillo_data = data[data[\"Race\"] == \"Olotillo\"]\n",
    "# Filtrar por escalas \n",
    "valid_scales = [\"Local\", \"Regional\", \"National\"]\n",
    "cleaned_data = olotillo_data[olotillo_data[\"scale\"].isin(valid_scales)]\n",
    "# Verificar que solo queden los valores correctos en la escala\n",
    "print(cleaned_data[\"scale\"].unique())\n",
    "# Mostrar las primeras filas después del filtrado\n",
    "cleaned_data.head()"
   ]
  },
  {
   "cell_type": "code",
   "execution_count": 10,
   "id": "01f767ba",
   "metadata": {},
   "outputs": [],
   "source": [
    "# PRUEBA DE NORMALIDAD "
   ]
  },
  {
   "cell_type": "code",
   "execution_count": 11,
   "id": "a2833de3",
   "metadata": {},
   "outputs": [],
   "source": [
    "# ¿NORMALIDAD en F? "
   ]
  },
  {
   "cell_type": "code",
   "execution_count": 12,
   "id": "90bdd520",
   "metadata": {},
   "outputs": [],
   "source": [
    "# F, ENDOGAMIA \n",
    "endogamia = 'F'  # variable de interés\n",
    "datos_F = cleaned_data[endogamia].dropna()  # eliminar valores nulos"
   ]
  },
  {
   "cell_type": "code",
   "execution_count": 13,
   "id": "03f8edc0",
   "metadata": {},
   "outputs": [
    {
     "data": {
      "text/plain": [
       "<Figure size 864x360 with 0 Axes>"
      ]
     },
     "execution_count": 13,
     "metadata": {},
     "output_type": "execute_result"
    },
    {
     "data": {
      "text/plain": [
       "<Figure size 864x360 with 0 Axes>"
      ]
     },
     "metadata": {},
     "output_type": "display_data"
    }
   ],
   "source": [
    "# Visualización de los datos\n",
    "plt.figure(figsize=(12, 5))"
   ]
  },
  {
   "cell_type": "code",
   "execution_count": 14,
   "id": "579dc62c",
   "metadata": {},
   "outputs": [
    {
     "data": {
      "text/plain": [
       "Text(0.5, 1.0, 'Histograma de F')"
      ]
     },
     "execution_count": 14,
     "metadata": {},
     "output_type": "execute_result"
    },
    {
     "data": {
      "image/png": "[encoded data removed]",
      "text/plain": [
       "<Figure size 432x288 with 1 Axes>"
      ]
     },
     "metadata": {
      "needs_background": "light"
     },
     "output_type": "display_data"
    }
   ],
   "source": [
    "# Histograma de F\n",
    "plt.subplot(1, 2, 1)\n",
    "plt.hist(datos_F, bins=15, edgecolor='black', alpha=0.7)\n",
    "plt.title(f\"Histograma de {endogamia}\")\n"
   ]
  },
  {
   "cell_type": "code",
   "execution_count": 15,
   "id": "bddedc0f",
   "metadata": {},
   "outputs": [
    {
     "data": {
      "text/plain": [
       "Text(0.5, 1.0, 'Distribución de F')"
      ]
     },
     "execution_count": 15,
     "metadata": {},
     "output_type": "execute_result"
    },
    {
     "data": {
      "image/png": "[encoded data removed]",
      "text/plain": [
       "<Figure size 432x288 with 1 Axes>"
      ]
     },
     "metadata": {
      "needs_background": "light"
     },
     "output_type": "display_data"
    }
   ],
   "source": [
    "# Histograma de F, otra versión de código\n",
    "plt.subplot(1, 2, 1)\n",
    "plt.hist(cleaned_data['F'], bins=20, edgecolor='black', alpha=0.7)\n",
    "plt.xlabel('F')\n",
    "plt.ylabel('Frecuencia')\n",
    "plt.title('Distribución de F')"
   ]
  },
  {
   "cell_type": "code",
   "execution_count": 16,
   "id": "c5cdaec2",
   "metadata": {},
   "outputs": [
    {
     "data": {
      "text/plain": [
       "Text(0.5, 1.0, 'Gráfico Q-Q de F')"
      ]
     },
     "execution_count": 16,
     "metadata": {},
     "output_type": "execute_result"
    },
    {
     "data": {
      "image/png": "[encoded data removed]",
      "text/plain": [
       "<Figure size 432x288 with 1 Axes>"
      ]
     },
     "metadata": {
      "needs_background": "light"
     },
     "output_type": "display_data"
    }
   ],
   "source": [
    "# Gráfico Q-Q,F\n",
    "plt.subplot(1, 2, 2)\n",
    "stats.probplot(datos_F, dist=\"norm\", plot=plt)\n",
    "plt.title(f\"Gráfico Q-Q de {endogamia}\")"
   ]
  },
  {
   "cell_type": "code",
   "execution_count": 29,
   "id": "7d5c2040",
   "metadata": {},
   "outputs": [
    {
     "name": "stdout",
     "output_type": "stream",
     "text": [
      "### Pruebas de normalidad F ###\n",
      "\n"
     ]
    }
   ],
   "source": [
    "# Pruebas de normalidad F\n",
    "print(\"### Pruebas de normalidad F ###\\n\")"
   ]
  },
  {
   "cell_type": "code",
   "execution_count": 18,
   "id": "e914f1f1",
   "metadata": {},
   "outputs": [
    {
     "name": "stdout",
     "output_type": "stream",
     "text": [
      "Shapiro-Wilk Test: Estadístico=0.8716, p-valor=0.0000\n"
     ]
    }
   ],
   "source": [
    "# Prueba de Shapiro-Wilk,F\n",
    "#data: datos_F\n",
    "shapiro_test = stats.shapiro(datos_F)\n",
    "print(f\"Shapiro-Wilk Test: Estadístico={shapiro_test.statistic:.4f}, p-valor={shapiro_test.pvalue:.4f}\")"
   ]
  },
  {
   "cell_type": "code",
   "execution_count": 19,
   "id": "efdb4d86",
   "metadata": {},
   "outputs": [
    {
     "name": "stdout",
     "output_type": "stream",
     "text": [
      "Kolmogorov-Smirnov Test: Estadístico=0.1533, p-valor=0.0010\n"
     ]
    }
   ],
   "source": [
    "# Prueba de Kolmogorov-Smirnov\n",
    "ks_test = stats.kstest(datos_F, 'norm', args=(np.mean(datos_F), np.std(datos_F, ddof=1)))\n",
    "print(f\"Kolmogorov-Smirnov Test: Estadístico={ks_test.statistic:.4f}, p-valor={ks_test.pvalue:.4f}\")"
   ]
  },
  {
   "cell_type": "code",
   "execution_count": 20,
   "id": "2fd45219",
   "metadata": {},
   "outputs": [
    {
     "name": "stdout",
     "output_type": "stream",
     "text": [
      "Anderson-Darling Test:\n",
      "Estadístico=5.7554\n",
      "Nivel de significancia 15.0%: Crítico=0.5620\n",
      "Nivel de significancia 10.0%: Crítico=0.6400\n",
      "Nivel de significancia 5.0%: Crítico=0.7680\n",
      "Nivel de significancia 2.5%: Crítico=0.8960\n",
      "Nivel de significancia 1.0%: Crítico=1.0660\n"
     ]
    }
   ],
   "source": [
    "# Prueba de Anderson-Darling\n",
    "anderson_test = stats.anderson(datos_F, dist='norm')\n",
    "print(\"Anderson-Darling Test:\")\n",
    "print(f\"Estadístico={anderson_test.statistic:.4f}\")\n",
    "for i in range(len(anderson_test.critical_values)):\n",
    "    print(f\"Nivel de significancia {anderson_test.significance_level[i]}%: \"\n",
    "          f\"Crítico={anderson_test.critical_values[i]:.4f}\")"
   ]
  },
  {
   "cell_type": "code",
   "execution_count": 21,
   "id": "702b4f27",
   "metadata": {},
   "outputs": [
    {
     "name": "stdout",
     "output_type": "stream",
     "text": [
      "D'Agostino y Pearson Test: Estadístico=28.6017, p-valor=0.0000\n"
     ]
    }
   ],
   "source": [
    "# Prueba de D'Agostino y Pearson\n",
    "dagostino_test = stats.normaltest(datos_F)\n",
    "print(f\"D'Agostino y Pearson Test: Estadístico={dagostino_test.statistic:.4f}, p-valor={dagostino_test.pvalue:.4f}\")\n"
   ]
  },
  {
   "cell_type": "code",
   "execution_count": 22,
   "id": "9662e2b0",
   "metadata": {},
   "outputs": [],
   "source": [
    "# HETob"
   ]
  },
  {
   "cell_type": "code",
   "execution_count": 23,
   "id": "fd136835",
   "metadata": {},
   "outputs": [],
   "source": [
    "# ¿NORMALIDAD en HETob? "
   ]
  },
  {
   "cell_type": "code",
   "execution_count": 24,
   "id": "c805d966",
   "metadata": {},
   "outputs": [],
   "source": [
    "# HETob,HETEROGIGOSIS OBSERVADA \n",
    "HETob = 'HETob'  # variable de interés\n",
    "datos_HETob = cleaned_data[HETob].dropna()  # eliminar valores nulos"
   ]
  },
  {
   "cell_type": "code",
   "execution_count": 25,
   "id": "0c085082",
   "metadata": {},
   "outputs": [
    {
     "data": {
      "text/plain": [
       "<Figure size 864x360 with 0 Axes>"
      ]
     },
     "execution_count": 25,
     "metadata": {},
     "output_type": "execute_result"
    },
    {
     "data": {
      "text/plain": [
       "<Figure size 864x360 with 0 Axes>"
      ]
     },
     "metadata": {},
     "output_type": "display_data"
    }
   ],
   "source": [
    "# Visualización de los datos\n",
    "plt.figure(figsize=(12, 5)) ##dudaaaaaaaaa"
   ]
  },
  {
   "cell_type": "code",
   "execution_count": 26,
   "id": "fadd90f7",
   "metadata": {},
   "outputs": [
    {
     "data": {
      "image/png": "[encoded data removed]",
      "text/plain": [
       "<Figure size 432x288 with 1 Axes>"
      ]
     },
     "metadata": {
      "needs_background": "light"
     },
     "output_type": "display_data"
    }
   ],
   "source": [
    "# Histograma de F\n",
    "plt.subplot(1, 2, 1)\n",
    "plt.hist(datos_HETob, bins=15,color='purple', edgecolor='black', alpha=0.7)\n",
    "plt.title(f\"Histograma de {HETob}\")\n",
    "plt.grid(True)"
   ]
  },
  {
   "cell_type": "code",
   "execution_count": 27,
   "id": "56b74f20",
   "metadata": {},
   "outputs": [
    {
     "data": {
      "image/png": "[encoded data removed]",
      "text/plain": [
       "<Figure size 432x288 with 1 Axes>"
      ]
     },
     "metadata": {
      "needs_background": "light"
     },
     "output_type": "display_data"
    }
   ],
   "source": [
    "# Gráfico Q-Q,HETob\n",
    "plt.subplot(1, 2, 2)\n",
    "stats.probplot(datos_HETob, dist=\"norm\", plot=plt)\n",
    "plt.title(f\"Gráfico Q-Q de {HETob}\")\n",
    "# Cambiar color de los puntos\n",
    "plt.gca().get_lines()[0].set_color('purple')  # Los puntos\n",
    "plt.gca().get_lines()[1].set_color('red')     # La línea de referencia (opcional)"
   ]
  },
  {
   "cell_type": "code",
   "execution_count": 31,
   "id": "029100fd",
   "metadata": {},
   "outputs": [
    {
     "name": "stdout",
     "output_type": "stream",
     "text": [
      "### Pruebas de normalidad HETob ###\n",
      "\n"
     ]
    }
   ],
   "source": [
    "# Pruebas de normalidad HETob\n",
    "print(\"### Pruebas de normalidad HETob ###\\n\")"
   ]
  },
  {
   "cell_type": "code",
   "execution_count": 32,
   "id": "aef6f28e",
   "metadata": {},
   "outputs": [
    {
     "name": "stdout",
     "output_type": "stream",
     "text": [
      "Shapiro-Wilk Test: Estadístico=0.8724, p-valor=0.0000\n"
     ]
    }
   ],
   "source": [
    "# Prueba de Shapiro-Wilk,HETob\n",
    "#data:datos_HETob \n",
    "shapiro_test = stats.shapiro(datos_HETob)\n",
    "print(f\"Shapiro-Wilk Test: Estadístico={shapiro_test.statistic:.4f}, p-valor={shapiro_test.pvalue:.4f}\")"
   ]
  },
  {
   "cell_type": "code",
   "execution_count": 34,
   "id": "b30c233b",
   "metadata": {},
   "outputs": [
    {
     "name": "stdout",
     "output_type": "stream",
     "text": [
      "Kolmogorov-Smirnov Test: Estadístico=1.0000, p-valor=0.0000\n"
     ]
    }
   ],
   "source": [
    "# Prueba de Kolmogorov-Smirnov,HETob\n",
    "# data:datos_HETob \n",
    "ks_test = stats.kstest(datos_HETob, 'norm', args=(np.mean(datos_F), np.std(datos_F, ddof=1)))\n",
    "print(f\"Kolmogorov-Smirnov Test: Estadístico={ks_test.statistic:.4f}, p-valor={ks_test.pvalue:.4f}\")"
   ]
  },
  {
   "cell_type": "code",
   "execution_count": 35,
   "id": "42fb1be2",
   "metadata": {},
   "outputs": [
    {
     "name": "stdout",
     "output_type": "stream",
     "text": [
      "Anderson-Darling Test:\n",
      "Estadístico=5.7001\n",
      "Nivel de significancia 15.0%: Crítico=0.5620\n",
      "Nivel de significancia 10.0%: Crítico=0.6400\n",
      "Nivel de significancia 5.0%: Crítico=0.7680\n",
      "Nivel de significancia 2.5%: Crítico=0.8960\n",
      "Nivel de significancia 1.0%: Crítico=1.0660\n"
     ]
    }
   ],
   "source": [
    "# Prueba de Anderson-Darling,HETob \n",
    "# data:datos_HETob \n",
    "anderson_test = stats.anderson(datos_HETob, dist='norm')\n",
    "print(\"Anderson-Darling Test:\")\n",
    "print(f\"Estadístico={anderson_test.statistic:.4f}\")\n",
    "for i in range(len(anderson_test.critical_values)):\n",
    "    print(f\"Nivel de significancia {anderson_test.significance_level[i]}%: \"\n",
    "          f\"Crítico={anderson_test.critical_values[i]:.4f}\")"
   ]
  },
  {
   "cell_type": "code",
   "execution_count": 6,
   "id": "2547c49f",
   "metadata": {},
   "outputs": [
    {
     "ename": "NameError",
     "evalue": "name 'datos_F' is not defined",
     "output_type": "error",
     "traceback": [
      "\u001b[0;31m---------------------------------------------------------------------------\u001b[0m",
      "\u001b[0;31mNameError\u001b[0m                                 Traceback (most recent call last)",
      "Input \u001b[0;32mIn [6]\u001b[0m, in \u001b[0;36m<cell line: 2>\u001b[0;34m()\u001b[0m\n\u001b[1;32m      1\u001b[0m \u001b[38;5;66;03m# Prueba de D'Agostino y Pearson\u001b[39;00m\n\u001b[0;32m----> 2\u001b[0m dagostino_test \u001b[38;5;241m=\u001b[39m stats\u001b[38;5;241m.\u001b[39mnormaltest(\u001b[43mdatos_F\u001b[49m)\n\u001b[1;32m      3\u001b[0m \u001b[38;5;28mprint\u001b[39m(\u001b[38;5;124mf\u001b[39m\u001b[38;5;124m\"\u001b[39m\u001b[38;5;124mD\u001b[39m\u001b[38;5;124m'\u001b[39m\u001b[38;5;124mAgostino y Pearson Test: Estadístico=\u001b[39m\u001b[38;5;132;01m{\u001b[39;00mdagostino_test\u001b[38;5;241m.\u001b[39mstatistic\u001b[38;5;132;01m:\u001b[39;00m\u001b[38;5;124m.4f\u001b[39m\u001b[38;5;132;01m}\u001b[39;00m\u001b[38;5;124m, p-valor=\u001b[39m\u001b[38;5;132;01m{\u001b[39;00mdagostino_test\u001b[38;5;241m.\u001b[39mpvalue\u001b[38;5;132;01m:\u001b[39;00m\u001b[38;5;124m.4f\u001b[39m\u001b[38;5;132;01m}\u001b[39;00m\u001b[38;5;124m\"\u001b[39m)\n",
      "\u001b[0;31mNameError\u001b[0m: name 'datos_F' is not defined"
     ]
    }
   ],
   "source": [
    "# Prueba de D'Agostino y Pearson\n",
    "# data:datos_HETob\n",
    "dagostino_test = stats.normaltest(datos_F)\n",
    "print(f\"D'Agostino y Pearson Test: Estadístico={dagostino_test.statistic:.4f}, p-valor={dagostino_test.pvalue:.4f}\")\n"
   ]
  },
  {
   "cell_type": "code",
   "execution_count": null,
   "id": "34af1edb",
   "metadata": {},
   "outputs": [],
   "source": []
  },
  {
   "cell_type": "code",
   "execution_count": null,
   "id": "865c7111",
   "metadata": {},
   "outputs": [],
   "source": []
  },
  {
   "cell_type": "code",
   "execution_count": null,
   "id": "475409a9",
   "metadata": {},
   "outputs": [],
   "source": []
  },
  {
   "cell_type": "code",
   "execution_count": null,
   "id": "0299277c",
   "metadata": {},
   "outputs": [],
   "source": []
  },
  {
   "cell_type": "code",
   "execution_count": null,
   "id": "a80daab5",
   "metadata": {},
   "outputs": [],
   "source": [
    "# F, ENDOGAMIA "
   ]
  },
  {
   "cell_type": "code",
   "execution_count": null,
   "id": "5337cd1c",
   "metadata": {},
   "outputs": [],
   "source": [
    "# 1. ¿Homogenidad de varianzas? "
   ]
  },
  {
   "cell_type": "code",
   "execution_count": null,
   "id": "07415c59",
   "metadata": {},
   "outputs": [],
   "source": [
    "# Extraer los valores de F por escala\n",
    "local_F = cleaned_data[cleaned_data[\"scale\"] == \"Local\"][\"F\"]\n",
    "regional_F = cleaned_data[cleaned_data[\"scale\"] == \"Regional\"][\"F\"]\n",
    "national_F = cleaned_data[cleaned_data[\"scale\"] == \"National\"][\"F\"]"
   ]
  },
  {
   "cell_type": "code",
   "execution_count": null,
   "id": "629b5f85",
   "metadata": {},
   "outputs": [],
   "source": [
    "# Realizar la prueba de Levene\n",
    "levene_stat_F, levene_p_F = levene(local_F, regional_F, national_F)"
   ]
  },
  {
   "cell_type": "code",
   "execution_count": null,
   "id": "b5b34f31",
   "metadata": {},
   "outputs": [],
   "source": [
    "# Mostrar los resultados\n",
    "print(f\"Levene's test statistic: {levene_stat_F:.4f}\")\n",
    "print(f\"P-value: {levene_p_F:.4f}\")"
   ]
  },
  {
   "cell_type": "code",
   "execution_count": null,
   "id": "15fcff1a",
   "metadata": {},
   "outputs": [],
   "source": [
    "# Interpretación\n",
    "if levene_p_F < 0.05:\n",
    "    print(\"Las varianzas NO son homogéneas (p < 0.05), aplicaremos ANOVA de Welch.\")\n",
    "else:\n",
    "    print(\"Las varianzas son homogéneas (p >= 0.05), podríamos usar ANOVA estándar.\")"
   ]
  },
  {
   "cell_type": "code",
   "execution_count": null,
   "id": "e39f7f23",
   "metadata": {},
   "outputs": [],
   "source": [
    "# 2. ANOVA de Welch"
   ]
  },
  {
   "cell_type": "code",
   "execution_count": null,
   "id": "0a567ce5",
   "metadata": {},
   "outputs": [],
   "source": [
    "# Ajustar el modelo de Welch's ANOVA\n",
    "model_F = ols(\"F ~ C(scale)\", data=cleaned_data).fit()\n",
    "anova_results_F = sm.stats.anova_lm(model_F, typ=2, robust='hc3')  # Welch's ANOVA"
   ]
  },
  {
   "cell_type": "code",
   "execution_count": null,
   "id": "4df21a26",
   "metadata": {},
   "outputs": [],
   "source": [
    "# Mostrar los resultados\n",
    "print(anova_results_F)"
   ]
  },
  {
   "cell_type": "code",
   "execution_count": null,
   "id": "d756b372",
   "metadata": {},
   "outputs": [],
   "source": [
    "# 3. POST HOC, BONFERRONI "
   ]
  },
  {
   "cell_type": "code",
   "execution_count": null,
   "id": "34c8a6be",
   "metadata": {},
   "outputs": [],
   "source": [
    "# Obtener las combinaciones de pares de escalas\n",
    "group_combinations_F = list(combinations([\"Local\", \"Regional\", \"National\"], 2))"
   ]
  },
  {
   "cell_type": "code",
   "execution_count": null,
   "id": "5d33ea85",
   "metadata": {},
   "outputs": [],
   "source": [
    "# Almacenar resultados\n",
    "pairwise_results_F = []"
   ]
  },
  {
   "cell_type": "code",
   "execution_count": null,
   "id": "03d28dcf",
   "metadata": {},
   "outputs": [],
   "source": [
    "# Realizar t-tests de Welch en cada par de grupos\n",
    "for g1, g2 in group_combinations_F:\n",
    "    data1_F = cleaned_data[cleaned_data[\"scale\"] == g1][\"F\"]\n",
    "    data2_F = cleaned_data[cleaned_data[\"scale\"] == g2][\"F\"]\n",
    "    \n",
    "    t_stat_F, p_value_F = ttest_ind(data1_F, data2_F, equal_var=False)  # Welch's t-test\n",
    "    pairwise_results_F.append((g1, g2, t_stat_F, p_value_F))"
   ]
  },
  {
   "cell_type": "code",
   "execution_count": null,
   "id": "3b03d40b",
   "metadata": {},
   "outputs": [],
   "source": [
    "# Crear un DataFrame con los resultados\n",
    "pairwise_df_F = pd.DataFrame(pairwise_results_F, columns=[\"Group 1\", \"Group 2\", \"t-statistic\", \"p-value\"])"
   ]
  },
  {
   "cell_type": "code",
   "execution_count": null,
   "id": "b45d5450",
   "metadata": {},
   "outputs": [],
   "source": [
    "# Aplicar la corrección de Bonferroni\n",
    "pairwise_df_F[\"adjusted p-value\"] = multipletests(pairwise_df_F[\"p-value\"], method=\"bonferroni\")[1]"
   ]
  },
  {
   "cell_type": "code",
   "execution_count": null,
   "id": "adf7b6c3",
   "metadata": {},
   "outputs": [],
   "source": [
    "# Mostrar los resultados\n",
    "print(pairwise_df_F)"
   ]
  },
  {
   "cell_type": "code",
   "execution_count": null,
   "id": "330f54bb",
   "metadata": {},
   "outputs": [],
   "source": [
    "# VIOLIN PLOT"
   ]
  },
  {
   "cell_type": "code",
   "execution_count": null,
   "id": "c9fcb38c",
   "metadata": {},
   "outputs": [],
   "source": [
    "# Graficar con diferencias significativas"
   ]
  },
  {
   "cell_type": "code",
   "execution_count": null,
   "id": "0f9523a7",
   "metadata": {},
   "outputs": [],
   "source": [
    "# Aplicar estilo moderno, de acuerdo a Duhyadi (yo misma),jijiji..\n",
    "sns.set_theme(style=\"whitegrid\")\n",
    "\n",
    "# Paleta de colores tipo \"Set3\" para tonos suaves y pastel\n",
    "custom_palette = [\"#B39DDB\", \"#81C784\", \"#64B5F6\"]  # Morado pastel, Verde pastel, Azul pastel\n",
    "\n",
    "# Crear la figura\n",
    "plt.figure(figsize=(9, 6))\n",
    "\n",
    "# Crear el violin plot con un ancho más estilizado\n",
    "sns.violinplot(data=cleaned_data, x=\"scale\", y=\"F\", order=[\"Local\", \"Regional\", \"National\"], \n",
    "               bw_adjust=0.5, cut=1, linewidth=1, palette=custom_palette, inner=\"quartile\")\n",
    "\n",
    "# Superponer puntos individuales con transparencia para un mejor look\n",
    "sns.stripplot(data=cleaned_data, x=\"scale\", y=\"F\", order=[\"Local\", \"Regional\", \"National\"], \n",
    "              color=\"black\", alpha=0.5, jitter=True, size=6, edgecolor=\"white\", linewidth=1)\n",
    "\n",
    "# Añadir anotaciones de diferencias significativas\n",
    "plt.text(0.25, max(cleaned_data[\"F\"]) + 0.02, \"*\", fontsize=22, color=\"red\", ha='center', fontweight='bold')  # Local vs Regional\n",
    "plt.text(0.75, max(cleaned_data[\"F\"]) + 0.02, \"*\", fontsize=22, color=\"red\", ha='center', fontweight='bold')  # Local vs National\n",
    "plt.text(1.5, max(cleaned_data[\"F\"]) + 0.01, \"n.s.\", fontsize=14, color=\"black\", ha='center', fontweight='bold')  # Regional vs National\n",
    "\n",
    "# Ajustar los límites del eje Y para evitar cortes en la visualización\n",
    "plt.ylim(min(cleaned_data[\"F\"]) - 0.1, max(cleaned_data[\"F\"]) + 0.05)\n",
    "\n",
    "# Quitar los bordes para un look más limpio\n",
    "sns.despine(left=True, bottom=True)\n",
    "\n",
    "# Personalizar los ejes y título\n",
    "plt.title(\"Genetic Inbreeding (FIS) Across Scales for Olotillo Maize\", fontsize=16, fontweight='bold')\n",
    "plt.xlabel(\"Scale\", fontsize=14, fontweight='bold')\n",
    "plt.ylabel(\"FIS Value (F)\", fontsize=14, fontweight='bold')\n",
    "plt.xticks(fontsize=12, fontweight='bold')\n",
    "plt.yticks(fontsize=12)\n",
    "\n",
    "# Mostrar el gráfico\n",
    "plt.show()\n"
   ]
  },
  {
   "cell_type": "code",
   "execution_count": null,
   "id": "d220aecd",
   "metadata": {},
   "outputs": [],
   "source": [
    "# HETEROCIGOSIS OBERVADA, HETob  "
   ]
  },
  {
   "cell_type": "code",
   "execution_count": null,
   "id": "939c39a0",
   "metadata": {},
   "outputs": [],
   "source": [
    "# 1. ¿Homogenidad de varianzas? "
   ]
  },
  {
   "cell_type": "code",
   "execution_count": null,
   "id": "dca4d2e9",
   "metadata": {},
   "outputs": [],
   "source": [
    "# Extraer los valores de HETob por escala\n",
    "local_HETob = cleaned_data[cleaned_data[\"scale\"] == \"Local\"][\"HETob\"]\n",
    "regional_HETob = cleaned_data[cleaned_data[\"scale\"] == \"Regional\"][\"HETob\"]\n",
    "national_HETob = cleaned_data[cleaned_data[\"scale\"] == \"National\"][\"HETob\"]"
   ]
  },
  {
   "cell_type": "code",
   "execution_count": null,
   "id": "b5c1cf0f",
   "metadata": {},
   "outputs": [],
   "source": [
    "# Realizar la prueba de Levene\n",
    "levene_stat_HETob, levene_p_HETob = levene(local_HETob, regional_HETob, national_HETob)"
   ]
  },
  {
   "cell_type": "code",
   "execution_count": null,
   "id": "d8286955",
   "metadata": {},
   "outputs": [],
   "source": [
    "# Mostrar los resultados\n",
    "print(f\"Levene's test statistic: {levene_stat_HETob:.4f}\")\n",
    "print(f\"P-value: {levene_p_HETob:.4f}\")"
   ]
  },
  {
   "cell_type": "code",
   "execution_count": null,
   "id": "fd412e1a",
   "metadata": {},
   "outputs": [],
   "source": [
    "# Interpretación\n",
    "if levene_p_HETob < 0.05:\n",
    "    print(\"Las varianzas NO son homogéneas (p < 0.05), aplicaremos ANOVA de Welch.\")\n",
    "else:\n",
    "    print(\"Las varianzas son homogéneas (p >= 0.05), podríamos usar ANOVA estándar.\")"
   ]
  },
  {
   "cell_type": "code",
   "execution_count": null,
   "id": "b7acca60",
   "metadata": {},
   "outputs": [],
   "source": [
    "# 2. ANOVA de Welch"
   ]
  },
  {
   "cell_type": "code",
   "execution_count": null,
   "id": "1a950ec1",
   "metadata": {},
   "outputs": [],
   "source": [
    "# Ajustar el modelo de Welch's ANOVA\n",
    "model_HETob = ols(\"HETob ~ C(scale)\", data=cleaned_data).fit()\n",
    "anova_results_HETob = sm.stats.anova_lm(model_HETob, typ=2, robust='hc3')  # Welch's ANOVA"
   ]
  },
  {
   "cell_type": "code",
   "execution_count": null,
   "id": "137dec56",
   "metadata": {},
   "outputs": [],
   "source": [
    "# Mostrar los resultados\n",
    "print(anova_results_HETob)"
   ]
  },
  {
   "cell_type": "code",
   "execution_count": null,
   "id": "b9a8b307",
   "metadata": {},
   "outputs": [],
   "source": [
    "# POST HOC, BONFERRONI "
   ]
  },
  {
   "cell_type": "code",
   "execution_count": null,
   "id": "09ab8f16",
   "metadata": {},
   "outputs": [],
   "source": [
    "# Obtener las combinaciones de pares de escalas\n",
    "group_combinations_HETob = list(combinations([\"Local\", \"Regional\", \"National\"], 2))"
   ]
  },
  {
   "cell_type": "code",
   "execution_count": null,
   "id": "861342dc",
   "metadata": {},
   "outputs": [],
   "source": [
    "# Almacenar resultados\n",
    "pairwise_results_HETob = []"
   ]
  },
  {
   "cell_type": "code",
   "execution_count": null,
   "id": "633f40ea",
   "metadata": {},
   "outputs": [],
   "source": [
    "# Realizar t-tests de Welch en cada par de grupos\n",
    "for g1, g2 in group_combinations_HETob:\n",
    "    data1_HETob = cleaned_data[cleaned_data[\"scale\"] == g1][\"HETob\"]\n",
    "    data2_HETob = cleaned_data[cleaned_data[\"scale\"] == g2][\"HETob\"]\n",
    "    \n",
    "    t_stat_HETob, p_value_HETob = ttest_ind(data1_HETob, data2_HETob, equal_var=False)  # Welch's t-test\n",
    "    pairwise_results_HETob.append((g1, g2, t_stat_HETob, p_value_HETob))"
   ]
  },
  {
   "cell_type": "code",
   "execution_count": null,
   "id": "4aa254fd",
   "metadata": {},
   "outputs": [],
   "source": [
    "# Crear un DataFrame con los resultados\n",
    "pairwise_df_HETob = pd.DataFrame(pairwise_results_HETob, columns=[\"Group 1\", \"Group 2\", \"t-statistic\", \"p-value\"])"
   ]
  },
  {
   "cell_type": "code",
   "execution_count": null,
   "id": "ea4a128a",
   "metadata": {},
   "outputs": [],
   "source": [
    "# Aplicar la corrección de Bonferroni\n",
    "pairwise_df_HETob[\"adjusted p-value\"] = multipletests(pairwise_df_HETob[\"p-value\"], method=\"bonferroni\")[1]"
   ]
  },
  {
   "cell_type": "code",
   "execution_count": null,
   "id": "ddbc4552",
   "metadata": {},
   "outputs": [],
   "source": [
    "# Mostrar los resultados\n",
    "print(pairwise_df_HETob)"
   ]
  },
  {
   "cell_type": "code",
   "execution_count": null,
   "id": "2144d8c9",
   "metadata": {},
   "outputs": [],
   "source": [
    "# VIOLIN PLOT"
   ]
  },
  {
   "cell_type": "code",
   "execution_count": null,
   "id": "95dd4cd2",
   "metadata": {},
   "outputs": [],
   "source": [
    "# Graficar con diferencias significativas"
   ]
  },
  {
   "cell_type": "code",
   "execution_count": null,
   "id": "16b31aef",
   "metadata": {},
   "outputs": [],
   "source": [
    "# Aplicar estilo moderno, de acuerdo a Duhyadi (yo misma),jijiji..\n",
    "sns.set_theme(style=\"whitegrid\")\n",
    "\n",
    "# Paleta de colores tipo \"Set3\" para tonos suaves y pastel\n",
    "custom_palette = [\"#B39DDB\", \"#81C784\", \"#64B5F6\"]  # Morado pastel, Verde pastel, Azul pastel\n",
    "\n",
    "# Crear la figura\n",
    "plt.figure(figsize=(9, 6))\n",
    "\n",
    "# Crear el violin plot con un ancho más estilizado\n",
    "sns.violinplot(data=cleaned_data, x=\"scale\", y=\"HETob\", order=[\"Local\", \"Regional\", \"National\"], \n",
    "               bw_adjust=0.5, cut=1, linewidth=1, palette=custom_palette, inner=\"quartile\")\n",
    "\n",
    "# Superponer puntos individuales con transparencia para un mejor look\n",
    "sns.stripplot(data=cleaned_data, x=\"scale\", y=\"HETob\", order=[\"Local\", \"Regional\", \"National\"], \n",
    "              color=\"black\", alpha=0.5, jitter=True, size=6, edgecolor=\"white\", linewidth=1)\n",
    "\n",
    "# Añadir anotaciones de diferencias significativas\n",
    "plt.text(0.25, max(cleaned_data[\"HETob\"]) + 0.02, \"*\", fontsize=22, color=\"red\", ha='center', fontweight='bold')  # Local vs Regional\n",
    "plt.text(0.75, max(cleaned_data[\"HETob\"]) + 0.02, \"*\", fontsize=22, color=\"red\", ha='center', fontweight='bold')  # Local vs National\n",
    "plt.text(1.5, max(cleaned_data[\"HETob\"]) + 0.01, \"n.s.\", fontsize=14, color=\"black\", ha='center', fontweight='bold')  # Regional vs National\n",
    "\n",
    "# Ajustar los límites del eje Y para evitar cortes en la visualización\n",
    "plt.ylim(min(cleaned_data[\"HETob\"]) - 0.1, max(cleaned_data[\"HETob\"]) + 0.05)\n",
    "\n",
    "# Quitar los bordes para un look más limpio\n",
    "sns.despine(left=True, bottom=True)\n",
    "\n",
    "# Personalizar los ejes y título\n",
    "plt.title(\"Heterozygosity observed (HETob) Across Scales for Olotillo Maize\", fontsize=16, fontweight='bold')\n",
    "plt.xlabel(\"Scale\", fontsize=14, fontweight='bold')\n",
    "plt.ylabel(\"Heterozygosity observed (HETob)\", fontsize=14, fontweight='bold')\n",
    "plt.xticks(fontsize=12, fontweight='bold')\n",
    "plt.yticks(fontsize=12)\n",
    "\n",
    "# Mostrar el gráfico\n",
    "plt.show()\n"
   ]
  },
  {
   "cell_type": "code",
   "execution_count": null,
   "id": "e8845a8a",
   "metadata": {},
   "outputs": [],
   "source": [
    "# CORRELACIÓN DE PEARSON"
   ]
  },
  {
   "cell_type": "code",
   "execution_count": null,
   "id": "b70579ac",
   "metadata": {},
   "outputs": [],
   "source": [
    "from scipy.stats import pearsonr\n"
   ]
  },
  {
   "cell_type": "code",
   "execution_count": null,
   "id": "aae9943b",
   "metadata": {},
   "outputs": [],
   "source": [
    "# Calcular la correlación de Pearson\n",
    "corr_coef, p_value = pearsonr(cleaned_data['F'], cleaned_data['HETob'])\n"
   ]
  },
  {
   "cell_type": "code",
   "execution_count": null,
   "id": "bc6c00fd",
   "metadata": {},
   "outputs": [],
   "source": [
    "print(f\"Coeficiente de correlación de Pearson: {corr_coef:.4f}\")\n",
    "print(f\"Valor p: {p_value:.4f}\")\n"
   ]
  },
  {
   "cell_type": "code",
   "execution_count": null,
   "id": "050b16d3",
   "metadata": {},
   "outputs": [],
   "source": [
    "# Graficar la relación entre las variables\n",
    "plt.figure(figsize=(8, 6))\n",
    "sns.regplot(x=cleaned_data['F'], y=cleaned_data['HETob'], scatter_kws={'alpha':0.5}, line_kws={\"color\":\"red\"})\n",
    "plt.xlabel('F')\n",
    "plt.ylabel('HETob')\n",
    "plt.title(f'Correlación de Pearson: {corr_coef:.4f}')\n",
    "plt.show()"
   ]
  },
  {
   "cell_type": "code",
   "execution_count": null,
   "id": "c9ed5c30",
   "metadata": {},
   "outputs": [],
   "source": [
    "#Correlación de Spearman"
   ]
  },
  {
   "cell_type": "code",
   "execution_count": null,
   "id": "1f52a3e8",
   "metadata": {},
   "outputs": [],
   "source": [
    "from scipy.stats import spearmanr\n",
    "\n",
    "# Calcular la correlación de Spearman\n",
    "spearman_corr, spearman_p = spearmanr(cleaned_data['F'], cleaned_data['HETob'])\n",
    "\n",
    "print(f\"Coeficiente de correlación de Spearman: {spearman_corr:.4f}\")\n",
    "print(f\"Valor p: {spearman_p:.4f}\")"
   ]
  },
  {
   "cell_type": "code",
   "execution_count": null,
   "id": "91212917",
   "metadata": {},
   "outputs": [],
   "source": [
    "import statsmodels.api as sm"
   ]
  },
  {
   "cell_type": "code",
   "execution_count": null,
   "id": "27428fed",
   "metadata": {},
   "outputs": [],
   "source": [
    "# Crear gráfico de dispersión\n",
    "plt.figure(figsize=(8,6))\n",
    "sns.scatterplot(x=cleaned_data['F'], y=cleaned_data['HETob'], alpha=0.5)\n"
   ]
  },
  {
   "cell_type": "code",
   "execution_count": null,
   "id": "0bfb1cec",
   "metadata": {},
   "outputs": [],
   "source": [
    "# Crear gráfico de dispersión\n",
    "plt.figure(figsize=(8,6))\n",
    "sns.scatterplot(x=cleaned_data['F'], y=cleaned_data['HETob'], alpha=0.5)\n",
    "\n",
    "# Agregar línea de tendencia no paramétrica\n",
    "lowess = sm.nonparametric.lowess(cleaned_data['HETob'], cleaned_data['F'], frac=0.6)\n",
    "plt.plot(lowess[:, 0], lowess[:, 1], color='red', linewidth=2, label=\"LOWESS Trend\")\n",
    "\n",
    "plt.xlabel('F')\n",
    "plt.ylabel('HETob')\n",
    "plt.title(f'Relación entre F y HETob (Spearman: {spearman_corr:.4f})')\n",
    "plt.legend()\n",
    "plt.show()"
   ]
  },
  {
   "cell_type": "code",
   "execution_count": null,
   "id": "269aa25b",
   "metadata": {},
   "outputs": [],
   "source": [
    "# Regresión entre F y HETob en jupyter notebook"
   ]
  },
  {
   "cell_type": "code",
   "execution_count": null,
   "id": "66972805",
   "metadata": {},
   "outputs": [],
   "source": [
    "from scipy.stats import linregress"
   ]
  },
  {
   "cell_type": "code",
   "execution_count": null,
   "id": "9c4e412f",
   "metadata": {},
   "outputs": [],
   "source": [
    "# Eliminar valores nulos en F y HETob\n",
    "cleaned_data = cleaned_data[['F', 'HETob']].dropna()\n"
   ]
  },
  {
   "cell_type": "code",
   "execution_count": null,
   "id": "4e6ffe8b",
   "metadata": {},
   "outputs": [],
   "source": [
    "# Ajustar regresión lineal\n",
    "slope, intercept, r_value, p_value, std_err = linregress(cleaned_data['F'], cleaned_data['HETob'])"
   ]
  },
  {
   "cell_type": "code",
   "execution_count": null,
   "id": "fcf056f2",
   "metadata": {},
   "outputs": [],
   "source": [
    "# Mostrar la ecuación de la recta\n",
    "print(f\"Ecuación de regresión: HETob = {slope:.4f} * F + {intercept:.4f}\")\n",
    "print(f\"Coeficiente de determinación R²: {r_value**2:.4f}\")\n",
    "\n",
    "# Graficar los datos y la recta de regresión\n",
    "plt.figure(figsize=(8,6))\n",
    "sns.scatterplot(x=cleaned_data['F'], y=cleaned_data['HETob'], alpha=0.5, label=\"Datos\")\n",
    "\n",
    "# Graficar la recta de regresión\n",
    "x_vals = cleaned_data['F']\n",
    "y_vals = slope * x_vals + intercept\n",
    "plt.plot(x_vals, y_vals, color=\"red\", label=\"Regresión Lineal\")\n",
    "\n",
    "plt.xlabel('F')\n",
    "plt.ylabel('HETob')\n",
    "plt.title(f'Regresión Lineal: HETob = {slope:.4f} * F + {intercept:.4f}')\n",
    "plt.legend()\n",
    "plt.show()"
   ]
  },
  {
   "cell_type": "code",
   "execution_count": null,
   "id": "b025fe0d",
   "metadata": {},
   "outputs": [],
   "source": [
    "# Crear gráficos de histograma para F y HETob"
   ]
  },
  {
   "cell_type": "code",
   "execution_count": null,
   "id": "afb712ca",
   "metadata": {},
   "outputs": [],
   "source": [
    "# Histograma de F\n",
    "plt.subplot(1, 2, 1)\n",
    "plt.hist(cleaned_data['F'], bins=20, edgecolor='black', alpha=0.7)\n",
    "plt.xlabel('F')\n",
    "plt.ylabel('Frecuencia')\n",
    "plt.title('Distribución de F')\n",
    "\n",
    "# Histograma de HETob\n",
    "plt.subplot(1, 2, 2)\n",
    "plt.hist(cleaned_data['HETob'], bins=20, edgecolor='black', alpha=0.7, color='orange')\n",
    "plt.xlabel('HETob')\n",
    "plt.ylabel('Frecuencia')\n",
    "plt.title('Distribución de HETob')\n",
    "\n",
    "# Mostrar los gráficos\n",
    "plt.tight_layout()\n",
    "plt.show()"
   ]
  },
  {
   "cell_type": "code",
   "execution_count": null,
   "id": "0d62ea64",
   "metadata": {},
   "outputs": [],
   "source": []
  }
 ],
 "metadata": {
  "kernelspec": {
   "display_name": "Python 3 (ipykernel)",
   "language": "python",
   "name": "python3"
  },
  "language_info": {
   "codemirror_mode": {
    "name": "ipython",
    "version": 3
   },
   "file_extension": ".py",
   "mimetype": "text/x-python",
   "name": "python",
   "nbconvert_exporter": "python",
   "pygments_lexer": "ipython3",
   "version": "3.9.12"
  }
 },
 "nbformat": 4,
 "nbformat_minor": 5
}
